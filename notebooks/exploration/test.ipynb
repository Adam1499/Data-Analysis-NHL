{
 "cells": [
  {
   "cell_type": "code",
   "execution_count": 1,
   "metadata": {},
   "outputs": [],
   "source": [
    "import matplotlib.pyplot as plt\n",
    "import pandas as pd\n",
    "\n",
    "from src.api.team import NHLTeamClient\n",
    "from src.data_processing.team.get_club_stats_now_processing import filter_skaters_by_criteria"
   ]
  },
  {
   "cell_type": "code",
   "execution_count": 2,
   "metadata": {},
   "outputs": [],
   "source": [
    "client = NHLTeamClient()\n",
    "response = client.get_club_stats_now(\"ANA\")"
   ]
  },
  {
   "cell_type": "code",
   "execution_count": 3,
   "metadata": {},
   "outputs": [],
   "source": [
    "filtered_players = filter_skaters_by_criteria(response, min_goals=15)"
   ]
  },
  {
   "cell_type": "code",
   "execution_count": 4,
   "metadata": {},
   "outputs": [
    {
     "data": {
      "text/html": [
       "<div>\n",
       "<style scoped>\n",
       "    .dataframe tbody tr th:only-of-type {\n",
       "        vertical-align: middle;\n",
       "    }\n",
       "\n",
       "    .dataframe tbody tr th {\n",
       "        vertical-align: top;\n",
       "    }\n",
       "\n",
       "    .dataframe thead th {\n",
       "        text-align: right;\n",
       "    }\n",
       "</style>\n",
       "<table border=\"1\" class=\"dataframe\">\n",
       "  <thead>\n",
       "    <tr style=\"text-align: right;\">\n",
       "      <th></th>\n",
       "      <th>playerId</th>\n",
       "      <th>headshot</th>\n",
       "      <th>firstName</th>\n",
       "      <th>lastName</th>\n",
       "      <th>positionCode</th>\n",
       "      <th>gamesPlayed</th>\n",
       "      <th>goals</th>\n",
       "      <th>assists</th>\n",
       "      <th>points</th>\n",
       "      <th>plusMinus</th>\n",
       "      <th>penaltyMinutes</th>\n",
       "      <th>powerPlayGoals</th>\n",
       "      <th>shorthandedGoals</th>\n",
       "      <th>gameWinningGoals</th>\n",
       "      <th>overtimeGoals</th>\n",
       "      <th>shots</th>\n",
       "      <th>shootingPctg</th>\n",
       "      <th>avgTimeOnIcePerGame</th>\n",
       "      <th>avgShiftsPerGame</th>\n",
       "      <th>faceoffWinPctg</th>\n",
       "    </tr>\n",
       "  </thead>\n",
       "  <tbody>\n",
       "    <tr>\n",
       "      <th>0</th>\n",
       "      <td>8473986</td>\n",
       "      <td>https://assets.nhle.com/mugs/nhl/20232024/ANA/...</td>\n",
       "      <td>{'default': 'Alex'}</td>\n",
       "      <td>{'default': 'Killorn'}</td>\n",
       "      <td>L</td>\n",
       "      <td>63</td>\n",
       "      <td>18</td>\n",
       "      <td>18</td>\n",
       "      <td>36</td>\n",
       "      <td>-15</td>\n",
       "      <td>54</td>\n",
       "      <td>5</td>\n",
       "      <td>0</td>\n",
       "      <td>5</td>\n",
       "      <td>1</td>\n",
       "      <td>145</td>\n",
       "      <td>0.124138</td>\n",
       "      <td>1123.9206</td>\n",
       "      <td>22.2698</td>\n",
       "      <td>0.358974</td>\n",
       "    </tr>\n",
       "    <tr>\n",
       "      <th>1</th>\n",
       "      <td>8478366</td>\n",
       "      <td>https://assets.nhle.com/mugs/nhl/20232024/ANA/...</td>\n",
       "      <td>{'default': 'Frank'}</td>\n",
       "      <td>{'default': 'Vatrano'}</td>\n",
       "      <td>R</td>\n",
       "      <td>82</td>\n",
       "      <td>37</td>\n",
       "      <td>23</td>\n",
       "      <td>60</td>\n",
       "      <td>-20</td>\n",
       "      <td>85</td>\n",
       "      <td>13</td>\n",
       "      <td>3</td>\n",
       "      <td>7</td>\n",
       "      <td>2</td>\n",
       "      <td>272</td>\n",
       "      <td>0.136029</td>\n",
       "      <td>1100.6829</td>\n",
       "      <td>22.3049</td>\n",
       "      <td>0.333333</td>\n",
       "    </tr>\n",
       "    <tr>\n",
       "      <th>2</th>\n",
       "      <td>8478873</td>\n",
       "      <td>https://assets.nhle.com/mugs/nhl/20232024/ANA/...</td>\n",
       "      <td>{'default': 'Troy'}</td>\n",
       "      <td>{'default': 'Terry'}</td>\n",
       "      <td>R</td>\n",
       "      <td>76</td>\n",
       "      <td>20</td>\n",
       "      <td>34</td>\n",
       "      <td>54</td>\n",
       "      <td>-10</td>\n",
       "      <td>24</td>\n",
       "      <td>4</td>\n",
       "      <td>0</td>\n",
       "      <td>5</td>\n",
       "      <td>1</td>\n",
       "      <td>172</td>\n",
       "      <td>0.116279</td>\n",
       "      <td>1097.2763</td>\n",
       "      <td>20.3553</td>\n",
       "      <td>0.333333</td>\n",
       "    </tr>\n",
       "    <tr>\n",
       "      <th>3</th>\n",
       "      <td>8482745</td>\n",
       "      <td>https://assets.nhle.com/mugs/nhl/20232024/ANA/...</td>\n",
       "      <td>{'default': 'Mason'}</td>\n",
       "      <td>{'default': 'McTavish'}</td>\n",
       "      <td>C</td>\n",
       "      <td>64</td>\n",
       "      <td>19</td>\n",
       "      <td>23</td>\n",
       "      <td>42</td>\n",
       "      <td>-23</td>\n",
       "      <td>86</td>\n",
       "      <td>4</td>\n",
       "      <td>1</td>\n",
       "      <td>3</td>\n",
       "      <td>1</td>\n",
       "      <td>130</td>\n",
       "      <td>0.146154</td>\n",
       "      <td>976.5469</td>\n",
       "      <td>19.3125</td>\n",
       "      <td>0.517160</td>\n",
       "    </tr>\n",
       "  </tbody>\n",
       "</table>\n",
       "</div>"
      ],
      "text/plain": [
       "   playerId                                           headshot  \\\n",
       "0   8473986  https://assets.nhle.com/mugs/nhl/20232024/ANA/...   \n",
       "1   8478366  https://assets.nhle.com/mugs/nhl/20232024/ANA/...   \n",
       "2   8478873  https://assets.nhle.com/mugs/nhl/20232024/ANA/...   \n",
       "3   8482745  https://assets.nhle.com/mugs/nhl/20232024/ANA/...   \n",
       "\n",
       "              firstName                 lastName positionCode  gamesPlayed  \\\n",
       "0   {'default': 'Alex'}   {'default': 'Killorn'}            L           63   \n",
       "1  {'default': 'Frank'}   {'default': 'Vatrano'}            R           82   \n",
       "2   {'default': 'Troy'}     {'default': 'Terry'}            R           76   \n",
       "3  {'default': 'Mason'}  {'default': 'McTavish'}            C           64   \n",
       "\n",
       "   goals  assists  points  plusMinus  penaltyMinutes  powerPlayGoals  \\\n",
       "0     18       18      36        -15              54               5   \n",
       "1     37       23      60        -20              85              13   \n",
       "2     20       34      54        -10              24               4   \n",
       "3     19       23      42        -23              86               4   \n",
       "\n",
       "   shorthandedGoals  gameWinningGoals  overtimeGoals  shots  shootingPctg  \\\n",
       "0                 0                 5              1    145      0.124138   \n",
       "1                 3                 7              2    272      0.136029   \n",
       "2                 0                 5              1    172      0.116279   \n",
       "3                 1                 3              1    130      0.146154   \n",
       "\n",
       "   avgTimeOnIcePerGame  avgShiftsPerGame  faceoffWinPctg  \n",
       "0            1123.9206           22.2698        0.358974  \n",
       "1            1100.6829           22.3049        0.333333  \n",
       "2            1097.2763           20.3553        0.333333  \n",
       "3             976.5469           19.3125        0.517160  "
      ]
     },
     "execution_count": 4,
     "metadata": {},
     "output_type": "execute_result"
    }
   ],
   "source": [
    "df = pd.DataFrame(filtered_players)\n",
    "df.head()"
   ]
  },
  {
   "cell_type": "code",
   "execution_count": 5,
   "metadata": {},
   "outputs": [
    {
     "data": {
      "image/png": "[encoded data removed]",
      "text/plain": [
       "<Figure size 1000x600 with 1 Axes>"
      ]
     },
     "metadata": {},
     "output_type": "display_data"
    }
   ],
   "source": [
    "plt.figure(figsize=(10, 6))\n",
    "plt.hist(df['goals'], bins=10, color='skyblue', edgecolor='black')\n",
    "plt.title('Distribution of Goals among Filtered Players')\n",
    "plt.xlabel('Goals')\n",
    "plt.ylabel('Number of Players')\n",
    "plt.show()"
   ]
  },
  {
   "cell_type": "code",
   "execution_count": 6,
   "metadata": {},
   "outputs": [
    {
     "name": "stdout",
     "output_type": "stream",
     "text": [
      "Correlation between goals and assists: -0.06\n"
     ]
    }
   ],
   "source": [
    "correlation = df['goals'].corr(df['assists'])\n",
    "print(f\"Correlation between goals and assists: {correlation:.2f}\")"
   ]
  }
 ],
 "metadata": {
  "kernelspec": {
   "display_name": "venv",
   "language": "python",
   "name": "python3"
  },
  "language_info": {
   "codemirror_mode": {
    "name": "ipython",
    "version": 3
   },
   "file_extension": ".py",
   "mimetype": "text/x-python",
   "name": "python",
   "nbconvert_exporter": "python",
   "pygments_lexer": "ipython3",
   "version": "3.9.13"
  }
 },
 "nbformat": 4,
 "nbformat_minor": 2
}
